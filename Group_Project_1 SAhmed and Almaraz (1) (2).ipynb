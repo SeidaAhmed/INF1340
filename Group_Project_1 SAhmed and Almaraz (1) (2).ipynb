{
 "cells": [
  {
   "cell_type": "markdown",
   "metadata": {},
   "source": [
    "# Group Project 1:\n",
    "Seida Ahmed & Lorena Almaraz"
   ]
  },
  {
   "cell_type": "markdown",
   "metadata": {},
   "source": [
    "**1)** The following reset() function returns 9 spaces ' ' (use it to reset the board when required). Add a proper description to it."
   ]
  },
  {
   "cell_type": "code",
   "execution_count": 1,
   "metadata": {},
   "outputs": [],
   "source": [
    "def reset():\n",
    "    \"\"\"\n",
    "    Returns 9 empty strings, clearing up the tic tac toe board\n",
    "    \"\"\"\n",
    "    return ' ', ' ', ' ', ' ', ' ', ' ', ' ', ' ', ' '"
   ]
  },
  {
   "cell_type": "markdown",
   "metadata": {},
   "source": [
    "**2)** Write a function that takes 9 input variables and prints a board accordingly. Each input variable is a String ('X', 'O', or ' '), so you can display a 3 by 3 board. Use spaces, '-'s, and '|'s to print the board."
   ]
  },
  {
   "cell_type": "code",
   "execution_count": 2,
   "metadata": {},
   "outputs": [],
   "source": [
    "def show_board(b_1: str,b_2: str, b_3:str, b_4:str, b_5:str, b_6:str, b_7, b_8:str, b_9:str):\n",
    "    \"\"\"\n",
    "    The function display the tic tok board and its corresponding values. It takes 9 string parameters and return a string type\n",
    "    \"\"\"\n",
    "    # Format the board using f' string formating\n",
    "    string =f\"   |   |\\n {b_1} | {b_2} | {b_3}\\n   |   |\\n-----------\\n   |   |\\n {b_4} | {b_5} | {b_6}\\n   |   |\\n-----------\\n   |   |\\n {b_7} | {b_8} |{b_9}\\n   |   |\\n\"  \n",
    "    print(string)"
   ]
  },
  {
   "cell_type": "markdown",
   "metadata": {},
   "source": [
    "**Test:** run show_board to check out the displayed board list!"
   ]
  },
  {
   "cell_type": "code",
   "execution_count": 3,
   "metadata": {
    "scrolled": true
   },
   "outputs": [
    {
     "name": "stdout",
     "output_type": "stream",
     "text": [
      "   |   |\n",
      " X |   | O\n",
      "   |   |\n",
      "-----------\n",
      "   |   |\n",
      " X | X | X\n",
      "   |   |\n",
      "-----------\n",
      "   |   |\n",
      " O | O |O\n",
      "   |   |\n",
      "\n"
     ]
    }
   ],
   "source": [
    "show_board('X', ' ', 'O', 'X', 'X', 'X', 'O', 'O', 'O')"
   ]
  },
  {
   "cell_type": "raw",
   "metadata": {},
   "source": [
    "Output should look like:\n",
    "   |   |\n",
    " X |   | O\n",
    "   |   |\n",
    "-----------\n",
    "   |   |\n",
    " X | X | X\n",
    "   |   |\n",
    "-----------\n",
    "   |   |\n",
    " O | O | O\n",
    "   |   |\n",
    "If not, make adjustments to your show_board function!"
   ]
  },
  {
   "cell_type": "markdown",
   "metadata": {},
   "source": [
    "**3)** Write a function that takes 9 variables, a marker ('X' or 'O'), and an index i. Then assigns the marker to the ith empty place in the board."
   ]
  },
  {
   "cell_type": "code",
   "execution_count": 4,
   "metadata": {},
   "outputs": [],
   "source": [
    "\n",
    "def set_marker(marker: str, i: int, b_1: str, b_2: str, b_3: str, b_4: str, b_5: str, b_6: str, b_7: str, b_8: str, b_9: str):\n",
    "    \"\"\"\n",
    "    Takes a marker string, an index integer, and the 9 strings that make up the tic tac toe board, returns 9 strings\n",
    "    \"\"\"\n",
    "    # Checks the specified index and assigns the marker to the designated variable\n",
    "    # There's a typo in the function name in the original instructions: set_markeT should be set_markeR, corrected in this implementation\n",
    "    if i == 1:\n",
    "        b_1 = marker\n",
    "    elif i == 2:\n",
    "        b_2 = marker\n",
    "    elif i == 3:\n",
    "        b_3 = marker\n",
    "    elif i == 4:\n",
    "        b_4 = marker\n",
    "    elif i == 5:\n",
    "        b_5 = marker\n",
    "    elif i == 6:\n",
    "        b_6 = marker\n",
    "    elif i == 7:\n",
    "        b_7 = marker\n",
    "    elif i == 8:\n",
    "        b_8 = marker\n",
    "    else:\n",
    "        b_9 = marker\n",
    "\n",
    "    return b_1, b_2, b_3, b_4, b_5, b_6, b_7, b_8, b_9"
   ]
  },
  {
   "cell_type": "markdown",
   "metadata": {},
   "source": [
    "**Test:** run the following code to check out the displayed board list!"
   ]
  },
  {
   "cell_type": "code",
   "execution_count": 5,
   "metadata": {},
   "outputs": [
    {
     "name": "stdout",
     "output_type": "stream",
     "text": [
      "   |   |\n",
      "   |   | X\n",
      "   |   |\n",
      "-----------\n",
      "   |   |\n",
      "   |   |  \n",
      "   |   |\n",
      "-----------\n",
      "   |   |\n",
      "   |   | \n",
      "   |   |\n",
      "\n"
     ]
    }
   ],
   "source": [
    "b_1, b_2, b_3, b_4, b_5, b_6, b_7, b_8, b_9 = reset()\n",
    "b_1, b_2, b_3, b_4, b_5, b_6, b_7, b_8, b_9 = set_marker('X',3 , b_1, b_2, b_3, b_4, b_5, b_6, b_7, b_8, b_9)\n",
    "show_board(b_1, b_2, b_3, b_4, b_5, b_6, b_7, b_8, b_9)"
   ]
  },
  {
   "cell_type": "raw",
   "metadata": {},
   "source": [
    "Output should look like:\n",
    "   |   |\n",
    "   |   | X\n",
    "   |   |\n",
    "-----------\n",
    "   |   |\n",
    "   |   |  \n",
    "   |   |\n",
    "-----------\n",
    "   |   |\n",
    "   |   |  \n",
    "   |   |\n",
    "If not, make adjustments to your set_market function!"
   ]
  },
  {
   "cell_type": "markdown",
   "metadata": {},
   "source": [
    "**4)** Write a function that takes a board (your nine variables) and a marker ('X' or 'O') then checks to see if a player won: returns True or False."
   ]
  },
  {
   "cell_type": "code",
   "execution_count": 6,
   "metadata": {},
   "outputs": [],
   "source": [
    "def check_win(b_1: str, b_2: str, b_3: str, b_4: str, b_5: str, b_6: str, b_7: str, b_8: str, b_9: str, marker: str) -> bool:\n",
    "    \"\"\"\n",
    "    This function check if player wins upon entering a given marker.\n",
    "    It takes 9 string parameters and marker and returns boolean\n",
    "    \"\"\"\n",
    "    # Checks for any of the possible combinations for a win: 2 diagonal, 3 horizontal, and  3 vertical\n",
    "    return b_3== b_5 == b_7 == marker or b_1 == b_5 == b_9 == marker or b_1 == b_2 == b_3 == marker  or b_4 == b_5 == b_6 == marker or b_7 == b_8 == b_9 == marker or b_1 == b_4 == b_7 == marker or b_2 == b_5 == b_8 == marker or b_3 == b_6 ==b_9 == marker\n"
   ]
  },
  {
   "cell_type": "markdown",
   "metadata": {},
   "source": [
    "**Test:** The following code should return True! If not, adjust your check_win function!"
   ]
  },
  {
   "cell_type": "code",
   "execution_count": 7,
   "metadata": {},
   "outputs": [
    {
     "data": {
      "text/plain": [
       "True"
      ]
     },
     "execution_count": 7,
     "metadata": {},
     "output_type": "execute_result"
    }
   ],
   "source": [
    "b_1, b_2, b_3, b_4, b_5, b_6, b_7, b_8, b_9 = set_marker('X',3 , b_1, b_2, b_3, b_4, b_5, b_6, b_7, b_8, b_9)\n",
    "b_1, b_2, b_3, b_4, b_5, b_6, b_7, b_8, b_9 = set_marker('X',5 , b_1, b_2, b_3, b_4, b_5, b_6, b_7, b_8, b_9)\n",
    "b_1, b_2, b_3, b_4, b_5, b_6, b_7, b_8, b_9 = set_marker('X',7 , b_1, b_2, b_3, b_4, b_5, b_6, b_7, b_8, b_9)\n",
    "check_win(b_1, b_2, b_3, b_4, b_5, b_6, b_7, b_8, b_9, 'X')"
   ]
  },
  {
   "cell_type": "markdown",
   "metadata": {},
   "source": [
    "**5)** Write a function that takes your board and an index. Then returns True if the ith space is available (i.e., equals to ' ') or False if it is taken."
   ]
  },
  {
   "cell_type": "code",
   "execution_count": 8,
   "metadata": {},
   "outputs": [],
   "source": [
    "def check_free_space(b_1: str, b_2: str, b_3: str, b_4: str, b_5: str, b_6: str, b_7: str, b_8: str, b_9: str, i: int) -> bool:\n",
    "    \"\"\"\n",
    "    Takes the 9 strings that make up the board and an index integer,\n",
    "    It checks whether the given index is occupied or free. It returns True if its free or false if not.\n",
    "    \"\"\"\n",
    "    # Based on the index, checks whether the relevant variable is set to an empty string, returns True or False\n",
    "    if i == 1:\n",
    "        return b_1 == \" \"\n",
    "    elif i == 2:\n",
    "        return b_2 == \" \"\n",
    "    elif i == 3:\n",
    "        return b_3 == \" \"\n",
    "    elif i == 4:\n",
    "        return b_4 == \" \" \n",
    "    elif i == 5:\n",
    "        return b_5 == \" \"\n",
    "    elif i == 6:\n",
    "        return b_6 == \" \"\n",
    "    elif i == 7:\n",
    "        return b_7 == \" \"\n",
    "    elif i == 8:\n",
    "        return b_8 == \" \"\n",
    "    elif i == 9:\n",
    "        return b_9 == \" \""
   ]
  },
  {
   "cell_type": "markdown",
   "metadata": {},
   "source": [
    "**Test:** The following code should return True! If not, adjust your check_free_space function!"
   ]
  },
  {
   "cell_type": "code",
   "execution_count": 9,
   "metadata": {},
   "outputs": [
    {
     "data": {
      "text/plain": [
       "True"
      ]
     },
     "execution_count": 9,
     "metadata": {},
     "output_type": "execute_result"
    }
   ],
   "source": [
    "b_1, b_2, b_3, b_4, b_5, b_6, b_7, b_8, b_9 = reset()\n",
    "check_free_space(b_1, b_2, b_3, b_4, b_5, b_6, b_7, b_8, b_9, 1)"
   ]
  },
  {
   "cell_type": "markdown",
   "metadata": {},
   "source": [
    "**Test:** The following code should return False! If not, adjust your check_free_space function!"
   ]
  },
  {
   "cell_type": "code",
   "execution_count": 10,
   "metadata": {},
   "outputs": [
    {
     "data": {
      "text/plain": [
       "False"
      ]
     },
     "execution_count": 10,
     "metadata": {},
     "output_type": "execute_result"
    }
   ],
   "source": [
    "b_1, b_2, b_3, b_4, b_5, b_6, b_7, b_8, b_9 = set_marker('X', 3, b_1, b_2, b_3, b_4, b_5, b_6, b_7, b_8, b_9)\n",
    "check_free_space(b_1, b_2, b_3, b_4, b_5, b_6, b_7, b_8, b_9, 3)"
   ]
  },
  {
   "cell_type": "markdown",
   "metadata": {},
   "source": [
    "**6)** Write a function that takes your board returns if the board is full (True) or not (False)."
   ]
  },
  {
   "cell_type": "code",
   "execution_count": 11,
   "metadata": {},
   "outputs": [],
   "source": [
    "def board_is_full(b_1: str, b_2: str, b_3: str, b_4: str, b_5: str, b_6: str, b_7: str, b_8: str, b_9: str) -> bool:\n",
    "    \"\"\"\n",
    "    Takes the 9 strings that make up the board and returns a boolean\n",
    "    Checks whether all the strings are not empty\n",
    "    \"\"\"\n",
    "    return b_1 != \" \" and b_2 != \" \" and b_3 != \" \" and b_4 != \" \" and b_5 != \" \" and b_6 != \" \" and b_7 != \" \" and b_8 != \" \" and b_9 != \" \""
   ]
  },
  {
   "cell_type": "markdown",
   "metadata": {},
   "source": [
    "**7)** Now, use your functions that you implemented in steps 1 - 6 to implement the game!"
   ]
  },
  {
   "cell_type": "code",
   "execution_count": null,
   "metadata": {},
   "outputs": [
    {
     "name": "stdout",
     "output_type": "stream",
     "text": [
      "Tic Tac Toe starts now!\n",
      "------------------------\n",
      "--------Welcome!--------\n",
      "------------------------\n",
      "X starts!\n",
      "   |   |\n",
      "   |   |  \n",
      "   |   |\n",
      "-----------\n",
      "   |   |\n",
      "   |   |  \n",
      "   |   |\n",
      "-----------\n",
      "   |   |\n",
      "   |   | \n",
      "   |   |\n",
      "\n"
     ]
    }
   ],
   "source": [
    "#print Welcome message\n",
    "print('Tic Tac Toe starts now!')\n",
    "print('------------------------')\n",
    "print('--------Welcome!--------')\n",
    "print('------------------------')\n",
    "\n",
    "#reset the board to empty spaces\n",
    "b_1, b_2, b_3, b_4, b_5, b_6, b_7, b_8, b_9 = reset()\n",
    "\n",
    "#set first and second player markers to X and O\n",
    "first_player_mark = 'X'\n",
    "second_player_mark = 'O'\n",
    "\n",
    "#print first players marker and ask to start\n",
    "print(first_player_mark + ' starts!')\n",
    "\n",
    "#set first turn to the first player\n",
    "player_turn = first_player_mark\n",
    "\n",
    "#continue_game equals to True while game continues. set it to False where a player wins or they draw to stop the while loop!\n",
    "continue_game = True\n",
    "\n",
    "#main while loop of the game\n",
    "\n",
    "## INCLUDE THE NICE TEXTS FROM SEIDA\n",
    "\n",
    "while continue_game:\n",
    "    if player_turn == first_player_mark:\n",
    "        #display the board\n",
    "        show_board(b_1, b_2, b_3, b_4, b_5, b_6, b_7, b_8, b_9)\n",
    "        #ask player to enter an index (using input function)\n",
    "        position = int(input(\"X: Enter a number 1-9 to select a space to place your marker: \"))\n",
    "        #check if place is already taken\n",
    "        while check_free_space(b_1, b_2, b_3, b_4, b_5, b_6, b_7, b_8, b_9, position) == False:\n",
    "            position = int(input(\"Spot taken, please choose another one: \")) \n",
    "        #set the marker to its place\n",
    "        b_1, b_2, b_3, b_4, b_5, b_6, b_7, b_8, b_9 = set_marker('X', position, b_1, b_2, b_3, b_4, b_5, b_6, b_7, b_8, b_9)\n",
    "        #set player_turn to the second player\n",
    "        player_turn = second_player_mark\n",
    "    #check if there is a win or draw\n",
    "    if check_win(b_1, b_2, b_3, b_4, b_5, b_6, b_7, b_8, b_9, 'X') or check_win(b_1, b_2, b_3, b_4, b_5, b_6, b_7, b_8, b_9, 'O') or board_is_full(b_1, b_2, b_3, b_4, b_5, b_6, b_7, b_8, b_9):\n",
    "        continue_game = False\n",
    "        \n",
    "## SEPARATE IF BOARD IS FULL ONTO OWN IF STATEMENT\n",
    "\n",
    "    elif player_turn == second_player_mark:\n",
    "        #display the board\n",
    "        show_board(b_1, b_2, b_3, b_4, b_5, b_6, b_7, b_8, b_9)\n",
    "        #ask player to enter an index (using input function)\n",
    "        position = int(input(\"O: Enter a number 1-9 to select a space to place your marker: \"))\n",
    "        #check if place is already taken\n",
    "        while check_free_space(b_1, b_2, b_3, b_4, b_5, b_6, b_7, b_8, b_9, position) == False:\n",
    "            position = int(input(\"Spot taken, please choose another one: \")) \n",
    "        #set the marker to its place\n",
    "        b_1, b_2, b_3, b_4, b_5, b_6, b_7, b_8, b_9 = set_marker('O', position, b_1, b_2, b_3, b_4, b_5, b_6, b_7, b_8, b_9)\n",
    "        #set player_turn to the second player\n",
    "        player_turn = first_player_mark\n",
    "    #check if there is a win or draw\n",
    "    if check_win(b_1, b_2, b_3, b_4, b_5, b_6, b_7, b_8, b_9, 'X') or check_win(b_1, b_2, b_3, b_4, b_5, b_6, b_7, b_8, b_9, 'O') or board_is_full(b_1, b_2, b_3, b_4, b_5, b_6, b_7, b_8, b_9):\n",
    "        continue_game = False\n",
    "        \n",
    "show_board(b_1, b_2, b_3, b_4, b_5, b_6, b_7, b_8, b_9)  \n",
    "\n",
    "## CHANGE THIS TEXT TO SOMETHING NICER, LIKE SEIDA'S\n",
    "\n",
    "print(\"Thanks for playing.\")"
   ]
  },
  {
   "cell_type": "markdown",
   "metadata": {},
   "source": [
    "#### "
   ]
  },
  {
   "cell_type": "code",
   "execution_count": null,
   "metadata": {},
   "outputs": [],
   "source": []
  },
  {
   "cell_type": "code",
   "execution_count": null,
   "metadata": {},
   "outputs": [],
   "source": []
  },
  {
   "cell_type": "code",
   "execution_count": null,
   "metadata": {},
   "outputs": [],
   "source": []
  }
 ],
 "metadata": {
  "kernelspec": {
   "display_name": "Python 3",
   "language": "python",
   "name": "python3"
  },
  "language_info": {
   "codemirror_mode": {
    "name": "ipython",
    "version": 3
   },
   "file_extension": ".py",
   "mimetype": "text/x-python",
   "name": "python",
   "nbconvert_exporter": "python",
   "pygments_lexer": "ipython3",
   "version": "3.8.3"
  }
 },
 "nbformat": 4,
 "nbformat_minor": 2
}
