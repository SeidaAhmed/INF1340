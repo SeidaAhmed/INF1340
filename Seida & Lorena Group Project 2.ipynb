{
 "cells": [
  {
   "cell_type": "code",
   "execution_count": 1,
   "metadata": {},
   "outputs": [],
   "source": [
    "import csv"
   ]
  },
  {
   "cell_type": "code",
   "execution_count": 2,
   "metadata": {},
   "outputs": [],
   "source": [
    "import numpy as np"
   ]
  },
  {
   "cell_type": "code",
   "execution_count": 3,
   "metadata": {},
   "outputs": [],
   "source": [
    "import matplotlib.pyplot as plt"
   ]
  },
  {
   "cell_type": "code",
   "execution_count": 4,
   "metadata": {},
   "outputs": [],
   "source": [
    "import matplotlib.cbook as cbook"
   ]
  },
  {
   "cell_type": "code",
   "execution_count": 5,
   "metadata": {},
   "outputs": [],
   "source": [
    "BRANCH = 1\n",
    "CITY = 2\n",
    "CUSTOMER_TYPE = 3\n",
    "GENDER = 4\n",
    "PRODUCT_LINE = 5\n",
    "UNIT_PRICE = 6\n",
    "QUANTITY = 7\n",
    "TAX5 = 8\n",
    "TOTAL = 9\n",
    "DATE = 10\n",
    "TIME = 11\n",
    "PAYMENT = 12\n",
    "COGS = 13\n",
    "GROSS_MARGIN_PERCENTAGE = 14\n",
    "GROSS_INCOME = 15\n",
    "RATING = 16\n",
    "RETURN = 17"
   ]
  },
  {
   "cell_type": "code",
   "execution_count": 118,
   "metadata": {},
   "outputs": [],
   "source": [
    "class Transactions():\n",
    "    def __init__(self, file_location):\n",
    "        \"\"\"\n",
    "        Initiatizes instance of class\n",
    "        \"\"\"\n",
    "        self.file_location = file_location\n",
    "    \n",
    "    def load_from_file(self):\n",
    "        \"\"\"\n",
    "        Loads dataset into a list using the csv library.\n",
    "        \"\"\"\n",
    "        #open file from local directory\n",
    "        open_file = open('/Users/lorenaalmaraz/Documents/Education & Learning/U of T/Course Materials/1 2020 Fall/INF1340 Programming/Assignments/Group Project 2/Group Project 2 Data.csv', mode = 'r')\n",
    "        #use reader from the csv library to grab file data\n",
    "        csv_raw_data = csv.reader(open_file)\n",
    "        #assign data onto a list\n",
    "        self.entities = list(csv_raw_data)[1:]\n",
    "   \n",
    "    def get_mean(self, item):\n",
    "        \"\"\"\n",
    "        Precondition: item must be numerical.\n",
    "        Takes an item and returns its average. Only works with numerical items.\n",
    "        >>> get_mean(UNIT_PRICE)\n",
    "        55.672129999999974\n",
    "        >>> get_mean(PAYMENT)\n",
    "        This function only works on numerical items.\n",
    "        \"\"\"\n",
    "        #check if item is not one of the numerical ones\n",
    "        if item != UNIT_PRICE and item != QUANTITY and item != TAX5 and item != TOTAL  and item != COGS and item != GROSS_MARGIN_PERCENTAGE and item != GROSS_INCOME and item != RATING and item != RETURN:\n",
    "            print(\"NA\") \n",
    "        else:\n",
    "        #sum total divided by count\n",
    "            sum_total = 0\n",
    "            for row in self.entities:\n",
    "                sum_total += float(row[item])\n",
    "\n",
    "            return sum_total / len(self.entities)\n",
    "        \n",
    "    def get_median(self, item):\n",
    "        \"\"\"\n",
    "        Precondition: item must be numerical.\n",
    "        Takes an item and returns the median. Only works with numerical items.\n",
    "        >>> get.median(TAX5)\n",
    "        12.088000000000001\n",
    "        >>> get_median(PAYMENT)\n",
    "        This function only works on numerical items.\n",
    "        \"\"\"\n",
    "        #check if item is not one of the numerical ones\n",
    "        if item != UNIT_PRICE and item != QUANTITY and item != TAX5 and item != TOTAL and item != COGS and item != GROSS_MARGIN_PERCENTAGE and item != GROSS_INCOME and item != RATING and item != RETURN:\n",
    "            print(\"NA\") \n",
    "            return None\n",
    "        \n",
    "        #make list of all values as floats\n",
    "        column_values = []\n",
    "        for row in self.entities:\n",
    "            column_values.append(float(row[item]))\n",
    "        \n",
    "        #if no values, no median\n",
    "        if(len(column_values) == 0):\n",
    "            return None\n",
    "        #if only one value, that's the median\n",
    "        elif (len(column_values) == 1):\n",
    "            return column_values[0]\n",
    "        else:\n",
    "            column_values.sort()\n",
    "            #if even number, sum the two in the middle and divide\n",
    "            if(len(column_values)%2 == 0):\n",
    "                return (column_values[len(column_values)//2]+column_values[len(column_values)//2-1])/2\n",
    "            else:\n",
    "                #if odd number, return the median\n",
    "                return column_values[len(column_values)//2]\n",
    "        \n",
    "    def get_minimum(self, item):\n",
    "        \"\"\"\n",
    "        Precondition: item must be numerical.\n",
    "        Takes an item and returns its minimum value. Only works with numerical items.\n",
    "        >>> get_minimum(QUANTITY)\n",
    "        1.0\n",
    "        \"\"\"\n",
    "        #check if item is not one of the numerical ones\n",
    "        if item != UNIT_PRICE and item != QUANTITY and item != TAX5 and item != TOTAL and item != COGS and item != GROSS_MARGIN_PERCENTAGE and item != GROSS_INCOME and item != RATING and item != RETURN:\n",
    "            print(\"NA\") \n",
    "            return None\n",
    "        #compare current min value to all values from item, replace min value if any other is less, all as floats\n",
    "        #initial min value is value at index 0 from item\n",
    "        min_value = float(self.entities[0][item])\n",
    "        for row in self.entities:\n",
    "            if float(row[item]) < min_value:\n",
    "                min_value = float(row[item])\n",
    "        return min_value\n",
    "        \n",
    "    def get_maximum(self, item):\n",
    "        \"\"\"\n",
    "        Precondition: item must be numerical.        \n",
    "        Takes an item and returns its maximum value. Only works with numerical items.\n",
    "        >>> get_maximum(COGS)\n",
    "        993.0\n",
    "        \"\"\"\n",
    "        #check if item is not one of the numerical ones\n",
    "        if item != UNIT_PRICE and item != QUANTITY and item != TAX5 and item != TOTAL and item != COGS and item != GROSS_MARGIN_PERCENTAGE and item != GROSS_INCOME and item != RATING and item != RETURN:\n",
    "            print(\"NA\") \n",
    "            return None\n",
    "        #collect all values from item into list as floats, return max\n",
    "        column_values = []\n",
    "        for row in self.entities:\n",
    "            column_values.append(float(row[item]))\n",
    "        return max(column_values)\n",
    "        \n",
    "    def get_mode(self, item):\n",
    "        \"\"\"        \n",
    "        Takes an item and returns its mode.\n",
    "        >>> get_mode(TIME)\n",
    "        ['19:48', '14:42']\n",
    "        \"\"\"\n",
    "        max_count = 0\n",
    "        most_freq = []\n",
    "        item_dict = {}\n",
    "        \n",
    "        #iterate over dataset and add a count to items already as keys in dictionary\n",
    "        for row in self.entities:\n",
    "            key = row[item]\n",
    "            if key in item_dict:\n",
    "                item_dict[key] = item_dict[key] + 1\n",
    "            else:\n",
    "                #if item not in dictionary, include as key and add a count\n",
    "                item_dict[key] = 1\n",
    "        \n",
    "        #iterate over keys and count in dictionary, return key with highest count\n",
    "        for key, freq in item_dict.items():\n",
    "            if freq > max_count:\n",
    "                max_count = freq\n",
    "                most_freq = [key]\n",
    "            #provide multiple modes if applicable\n",
    "            elif freq == max_count:\n",
    "                most_freq.append(key)\n",
    "        return most_freq\n",
    "        \n",
    "    def get_city_name_highest_gross_income(self, gender = 'all'):\n",
    "        \"\"\"\n",
    "        Returns the name of the city with the highest gross income.\n",
    "        If a gender is specified, it returns the city with the highest gross income for that gender specifically.\n",
    "        Not case sensitive for gender argument.\n",
    "        >>> get_city_name_highest_gross_income('WoMaN')\n",
    "        'Naypyitaw'\n",
    "        \"\"\"\n",
    "        highest_income = 0\n",
    "        rich_city = \"\"\n",
    "        cities_and_incomes = {}\n",
    "        #case insensitive\n",
    "        gender = gender.lower()\n",
    "        \n",
    "        #iterate over dataset, filter for gender if specified or default to all\n",
    "        for row in self.entities:\n",
    "            if gender == row[GENDER].lower() or gender == 'all':\n",
    "                key = row[CITY]\n",
    "                #if city already in dictionary as key, add gross income as float\n",
    "                if key in cities_and_incomes:\n",
    "                    cities_and_incomes[key] = cities_and_incomes[key] + float(row[GROSS_INCOME])\n",
    "                else:\n",
    "                    #if not in dictionary, add city as key with gross income as float as its value\n",
    "                    cities_and_incomes[key] = float(row[GROSS_INCOME])\n",
    "        \n",
    "        #iterate over keys and values in dictionary, return key with highest value\n",
    "        for key, total in cities_and_incomes.items():\n",
    "            if total > highest_income:\n",
    "                highest_income = total\n",
    "                rich_city = key\n",
    "        return rich_city\n",
    "\n",
    "    def get_branch_name_lowest_gross_income(self, gender = 'all'):\n",
    "        \"\"\"\n",
    "        Returns the letter of the branch with the lowest gross income.\n",
    "        If a gender is specified, it returns the branch with the lowest gross income for that gender specifically.\n",
    "        Not case sensitive for gender argument.\n",
    "        >>> get_branch_name_lowest_gross_income()\n",
    "        'B'\n",
    "        \"\"\"\n",
    "        branches_and_incomes = {}\n",
    "        #case insensitive\n",
    "        gender = gender.lower()\n",
    "        \n",
    "        #iterate over dataset, filter for gender if specified or default to all        \n",
    "        for row in self.entities:\n",
    "            if gender == row[GENDER].lower() or gender == 'all':\n",
    "                key = row[BRANCH]\n",
    "                #if branch already in dictionary as key, add gross income as float                \n",
    "                if key in branches_and_incomes:\n",
    "                    branches_and_incomes[key] = branches_and_incomes[key] + float(row[GROSS_INCOME])\n",
    "                else:\n",
    "                    #if not in dictionary, add branch as key with gross income as float as its value                    \n",
    "                    branches_and_incomes[key] = float(row[GROSS_INCOME])\n",
    "                    \n",
    "        #find key with lowest value        \n",
    "        min_gross_income = min(branches_and_incomes, key=branches_and_incomes.get)\n",
    "        \n",
    "        return min_gross_income\n",
    "        \n",
    "    def get_most_popular_product_line(self, gender = 'all'):\n",
    "        \"\"\"\n",
    "        Returns the name of the most popular product line.\n",
    "        If a gender is specified, it returns the most popular product line for that gender specifically.\n",
    "        Not case sensitive for gender argument.\n",
    "        >>> get_most_popular_product_line()\n",
    "        ['Fashion accessories']\n",
    "        \"\"\"\n",
    "        max_count = 0\n",
    "        most_popular = []\n",
    "        product_lines = {}\n",
    "        #case insensitive        \n",
    "        gender = gender.lower()\n",
    "        \n",
    "        #iterate over dataset, filter for gender if specified or default to all    \n",
    "        for row in self.entities:\n",
    "            if gender == row[GENDER].lower() or gender == 'all':\n",
    "                key = row[PRODUCT_LINE]\n",
    "                #if product line already in dictionary as key, add a count\n",
    "                if key in product_lines:\n",
    "                    product_lines[key] = product_lines[key] + 1\n",
    "                else:\n",
    "                    #if product line not in dictionary, include as key and add a count\n",
    "                    product_lines[key] = 1\n",
    "\n",
    "        #iterate over keys and count in dictionary, return key with highest count        \n",
    "        for key, freq in product_lines.items():\n",
    "            if freq > max_count:\n",
    "                max_count = freq\n",
    "                most_popular = [key]\n",
    "            elif freq == max_count:\n",
    "                most_popular.append(key)\n",
    "        return most_popular\n",
    "        \n",
    "    def get_most_popular_payment_type(self, gender = 'all'):\n",
    "        \"\"\"\n",
    "        Returns the name of the most popular payment type.\n",
    "        If a gender is specified, it returns the most popular payment type for that gender specifically.\n",
    "        Not case sensitive for gender argument.\n",
    "        >>> get_most_popular_payment_type('man')\n",
    "        ['Ewallet']\n",
    "        \"\"\"\n",
    "        max_count = 0\n",
    "        most_popular = []\n",
    "        payment_types = {}\n",
    "        #case insensitive\n",
    "        gender = gender.lower()\n",
    "\n",
    "        #iterate over dataset, filter for gender if specified or default to all         \n",
    "        for row in self.entities:\n",
    "            if gender == row[GENDER].lower() or gender == 'all':\n",
    "                key = row[PAYMENT]\n",
    "                #if payment type already in dictionary as key, add a count\n",
    "                if key in payment_types:\n",
    "                    payment_types[key] = payment_types[key] + 1\n",
    "                else:\n",
    "                    #if payment type not in dictionary, include as key and add a count\n",
    "                    payment_types[key] = 1\n",
    "                    \n",
    "        #iterate over keys and count in dictionary, return key with highest count \n",
    "        for key, freq in payment_types.items():\n",
    "            if freq > max_count:\n",
    "                max_count = freq\n",
    "                most_popular = [key]\n",
    "            elif freq == max_count:\n",
    "                most_popular.append(key)\n",
    "        return most_popular\n",
    "    \n",
    "    def get_statistics(self, item, gender = 'all'):\n",
    "        \"\"\"\n",
    "        Takes an item and returns a tuple of its basic statistics: mean, median, min, max, and mode.\n",
    "        Mean, median, min and max only work for numerical items.\n",
    "        \n",
    "        This function was previously called get_rating_statistics.\n",
    "        The 'rating' was removed for accuracy as it works on all items, not just RATING.\n",
    "        \n",
    "        >>> get_statistics(UNIT_PRICE)\n",
    "        (55.672129999999974, 55.230000000000004, 10.08, 99.96, ['83.77'])\n",
    "        \"\"\"\n",
    "        #couldn't figure out was how to add the gender filtering\n",
    "        #our only solution was to go back to each of the get_mean, get_median, etc\n",
    "        #and add the gender filtering there, but that would mean adding a parameter for gender\n",
    "        #to those as well and not sure that's correct\n",
    "        \n",
    "        mode = self.get_mode(item)\n",
    "\n",
    "        #check if item is not one of the numerical ones and if it isn't, only return mode\n",
    "        if item != UNIT_PRICE and item != QUANTITY and item != TAX5 and item != TOTAL and item != COGS and item != GROSS_MARGIN_PERCENTAGE and item != GROSS_INCOME and item != RATING and item != RETURN:\n",
    "            print(\"Mean, median, minimum and maximum only work on numerical items.\") \n",
    "            return mode\n",
    "        else:\n",
    "            #use previously defined methods otherwise and return as tuple\n",
    "            mean = self.get_mean(item)\n",
    "            median = self.get_median(item)\n",
    "            minimum = self.get_minimum(item)\n",
    "            maximum = self.get_maximum(item)\n",
    "\n",
    "            return mean, median, minimum, maximum, mode\n",
    "\n",
    "    def draw_boxplots_rating_return(self):\n",
    "        \"\"\"\n",
    "        Draws two box plots, one shows ratings received to units returned,\n",
    "        and the second shows ratings for units not returned.\n",
    "        \"\"\"\n",
    "        returned = []\n",
    "        not_returned = []\n",
    "        ratings_and_returns = [not_returned, returned]\n",
    "        \n",
    "        #iterate over dataset and filter items as returned or not returned with their equivalent ratings as floats\n",
    "        for row in self.entities:\n",
    "            if row[RETURN] == '1':\n",
    "                returned.append(float(row[RATING]))\n",
    "            else:\n",
    "                not_returned.append(float(row[RATING]))\n",
    "        \n",
    "        #this code came from matplotlib.org\n",
    "        fig, ax = plt.subplots()\n",
    "        pos = np.arange(len(ratings_and_returns)) + 1\n",
    "        bp = ax.boxplot(ratings_and_returns, sym='k+', positions=pos)\n",
    "\n",
    "        ax.set_xlabel('return')\n",
    "        ax.set_ylabel('rating')\n",
    "        ax.set_xticklabels(['not returned', 'returned'])\n",
    "        plt.setp(bp['whiskers'], color='k', linestyle='-')\n",
    "        plt.setp(bp['fliers'], markersize=3.0)\n",
    "        plt.show()\n",
    "        \n",
    "        # Discussion:\n",
    "        # From the boxplot we can see that units that were not returned\n",
    "        # tend to be reviewed on a broader spectrum,\n",
    "        # with the max above 9 and median around 4.\n",
    "        # Units that were returned are rated significantly lower, \n",
    "        # with the max barely around 4 and median around 3.\n",
    "        # From the graph it looks like that there is a correlation\n",
    "        # between item ratings and returns the higher the rating value\n",
    "        # the lower number of return. hence the regression model will show \n",
    "        # negative reation between ratings and return.\n",
    "        \n",
    "    \n",
    "    def draw_rating_change(self):\n",
    "        \"\"\"\n",
    "        Draws a scatterplot of ratings over time.\n",
    "        \"\"\"\n",
    "        \n",
    "        ratings = []\n",
    "        dates = []\n",
    "        \n",
    "        #iterate over dataset and append ratings as floats to list\n",
    "        for row in self.entities:\n",
    "            ratings.append(float(row[RATING]))\n",
    "            #iterate over dataset and append dates to list\n",
    "            dates.append(row[DATE])\n",
    "            \n",
    "        N = len(ratings)\n",
    "        x = dates\n",
    "        y = ratings\n",
    "        \n",
    "        #this code came from matplotlib.org, except the stars but i like the stars\n",
    "        fig, ax = plt.subplots()\n",
    "        ax.plot(x, y, '*', color='tab:green')\n",
    "        \n",
    "        # Dicussion:\n",
    "        # The figure shows that ratings decrease as time progresses.\n",
    "    \n",
    "    def draw_stacked_bar_total_sale_gender(self):\n",
    "        \"\"\"\n",
    "        Draws stacked barplots for branch sales separated by gender.\n",
    "        \"\"\"\n",
    "        \n",
    "        branch_sales_by_gender = {}\n",
    "        \n",
    "        #iterate over dataset and add branches to dictionary with a list of two values for running totals\n",
    "        for row in self.entities:\n",
    "            key = row[BRANCH]\n",
    "            if key not in branch_sales_by_gender:\n",
    "                branch_sales_by_gender[key] = [0,0]\n",
    "            gender = row[GENDER].lower()\n",
    "            #case insensitive for good measure\n",
    "            \n",
    "            #add total to running total at index 0 in the list equivalent to each branch\n",
    "            if gender == 'man':\n",
    "                branch_sales_by_gender[key][0] += float(row[TOTAL])\n",
    "            else:\n",
    "                #running total for else at index 1 in the list for each branch\n",
    "                branch_sales_by_gender[key][1] += float(row[TOTAL])\n",
    "            \n",
    "        labels = branch_sales_by_gender.keys()\n",
    "        men_sales = []\n",
    "        women_sales = []\n",
    "        \n",
    "        #iterate over dictionary keys and values and append the running totals for men at index 0 of the list,\n",
    "        #and for women at index 1\n",
    "        for key, value in branch_sales_by_gender.items():\n",
    "            men_sales.append(value[0])\n",
    "            women_sales.append(value[1])\n",
    "\n",
    "        width = 0.15\n",
    "        \n",
    "        #this code came from matplotlib.org\n",
    "        fig, ax = plt.subplots()\n",
    "\n",
    "        ax.bar(labels, men_sales, width, label='Men')\n",
    "        ax.bar(labels, women_sales, width, bottom=men_sales,\n",
    "               label='Women')\n",
    "\n",
    "        ax.set_ylabel('Total sales')\n",
    "        ax.set_title('Branch sale totals by gender')\n",
    "        ax.legend()\n",
    "\n",
    "        plt.show()\n",
    "        \n",
    "        # Discussion:\n",
    "        # From the diagram, we can see that the difference between sale totals per branch is not\n",
    "        # particularly significant. The sales by gender, similarly, do not seems to differ significantly."
   ]
  },
  {
   "cell_type": "code",
   "execution_count": 119,
   "metadata": {},
   "outputs": [],
   "source": [
    "transaction_1 = Transactions(\"file_location\")"
   ]
  },
  {
   "cell_type": "code",
   "execution_count": 120,
   "metadata": {},
   "outputs": [],
   "source": [
    "transaction_1.load_from_file()"
   ]
  },
  {
   "cell_type": "code",
   "execution_count": 121,
   "metadata": {},
   "outputs": [
    {
     "data": {
      "text/plain": [
       "55.672129999999974"
      ]
     },
     "execution_count": 121,
     "metadata": {},
     "output_type": "execute_result"
    }
   ],
   "source": [
    "transaction_1.get_mean(UNIT_PRICE)"
   ]
  },
  {
   "cell_type": "code",
   "execution_count": 122,
   "metadata": {},
   "outputs": [
    {
     "name": "stdout",
     "output_type": "stream",
     "text": [
      "NA\n"
     ]
    }
   ],
   "source": [
    "transaction_1.get_mean(PAYMENT)"
   ]
  },
  {
   "cell_type": "code",
   "execution_count": 123,
   "metadata": {},
   "outputs": [
    {
     "name": "stdout",
     "output_type": "stream",
     "text": [
      "NA\n"
     ]
    }
   ],
   "source": [
    "transaction_1.get_median(PAYMENT)"
   ]
  },
  {
   "cell_type": "code",
   "execution_count": 124,
   "metadata": {
    "scrolled": true
   },
   "outputs": [
    {
     "data": {
      "text/plain": [
       "12.088000000000001"
      ]
     },
     "execution_count": 124,
     "metadata": {},
     "output_type": "execute_result"
    }
   ],
   "source": [
    "transaction_1.get_median(TAX5)"
   ]
  },
  {
   "cell_type": "code",
   "execution_count": 125,
   "metadata": {},
   "outputs": [
    {
     "data": {
      "text/plain": [
       "1.0"
      ]
     },
     "execution_count": 125,
     "metadata": {},
     "output_type": "execute_result"
    }
   ],
   "source": [
    "transaction_1.get_minimum(QUANTITY)"
   ]
  },
  {
   "cell_type": "code",
   "execution_count": 126,
   "metadata": {},
   "outputs": [
    {
     "name": "stdout",
     "output_type": "stream",
     "text": [
      "NA\n"
     ]
    }
   ],
   "source": [
    "transaction_1.get_minimum(CITY)"
   ]
  },
  {
   "cell_type": "code",
   "execution_count": 127,
   "metadata": {},
   "outputs": [
    {
     "name": "stdout",
     "output_type": "stream",
     "text": [
      "NA\n"
     ]
    }
   ],
   "source": [
    "transaction_1.get_maximum(TIME)"
   ]
  },
  {
   "cell_type": "code",
   "execution_count": 128,
   "metadata": {},
   "outputs": [
    {
     "data": {
      "text/plain": [
       "993.0"
      ]
     },
     "execution_count": 128,
     "metadata": {},
     "output_type": "execute_result"
    }
   ],
   "source": [
    "transaction_1.get_maximum(COGS)"
   ]
  },
  {
   "cell_type": "code",
   "execution_count": 129,
   "metadata": {},
   "outputs": [
    {
     "data": {
      "text/plain": [
       "['Yangon']"
      ]
     },
     "execution_count": 129,
     "metadata": {},
     "output_type": "execute_result"
    }
   ],
   "source": [
    "transaction_1.get_mode(CITY)"
   ]
  },
  {
   "cell_type": "code",
   "execution_count": 130,
   "metadata": {},
   "outputs": [
    {
     "data": {
      "text/plain": [
       "['19:48', '14:42']"
      ]
     },
     "execution_count": 130,
     "metadata": {},
     "output_type": "execute_result"
    }
   ],
   "source": [
    "transaction_1.get_mode(TIME)"
   ]
  },
  {
   "cell_type": "code",
   "execution_count": 131,
   "metadata": {},
   "outputs": [
    {
     "data": {
      "text/plain": [
       "'Naypyitaw'"
      ]
     },
     "execution_count": 131,
     "metadata": {},
     "output_type": "execute_result"
    }
   ],
   "source": [
    "transaction_1.get_city_name_highest_gross_income('WoMaN')"
   ]
  },
  {
   "cell_type": "code",
   "execution_count": 132,
   "metadata": {},
   "outputs": [
    {
     "data": {
      "text/plain": [
       "'B'"
      ]
     },
     "execution_count": 132,
     "metadata": {},
     "output_type": "execute_result"
    }
   ],
   "source": [
    "transaction_1.get_branch_name_lowest_gross_income()"
   ]
  },
  {
   "cell_type": "code",
   "execution_count": 133,
   "metadata": {},
   "outputs": [
    {
     "data": {
      "text/plain": [
       "['Fashion accessories']"
      ]
     },
     "execution_count": 133,
     "metadata": {},
     "output_type": "execute_result"
    }
   ],
   "source": [
    "transaction_1.get_most_popular_product_line()"
   ]
  },
  {
   "cell_type": "code",
   "execution_count": 134,
   "metadata": {},
   "outputs": [
    {
     "data": {
      "text/plain": [
       "['Ewallet']"
      ]
     },
     "execution_count": 134,
     "metadata": {},
     "output_type": "execute_result"
    }
   ],
   "source": [
    "transaction_1.get_most_popular_payment_type('man')"
   ]
  },
  {
   "cell_type": "code",
   "execution_count": 135,
   "metadata": {},
   "outputs": [
    {
     "data": {
      "image/png": "[encoded data removed]",
      "text/plain": [
       "<Figure size 432x288 with 1 Axes>"
      ]
     },
     "metadata": {
      "needs_background": "light"
     },
     "output_type": "display_data"
    }
   ],
   "source": [
    "transaction_1.draw_boxplots_rating_return()"
   ]
  },
  {
   "cell_type": "code",
   "execution_count": 136,
   "metadata": {},
   "outputs": [
    {
     "data": {
      "text/plain": [
       "(55.672129999999974, 55.230000000000004, 10.08, 99.96, ['83.77'])"
      ]
     },
     "execution_count": 136,
     "metadata": {},
     "output_type": "execute_result"
    }
   ],
   "source": [
    "transaction_1.get_statistics(UNIT_PRICE)"
   ]
  },
  {
   "cell_type": "code",
   "execution_count": 137,
   "metadata": {},
   "outputs": [
    {
     "data": {
      "image/png": "[encoded data removed]",
      "text/plain": [
       "<Figure size 432x288 with 1 Axes>"
      ]
     },
     "metadata": {
      "needs_background": "light"
     },
     "output_type": "display_data"
    }
   ],
   "source": [
    "transaction_1.draw_rating_change()"
   ]
  },
  {
   "cell_type": "code",
   "execution_count": 138,
   "metadata": {},
   "outputs": [
    {
     "data": {
      "image/png": "[encoded data removed]",
      "text/plain": [
       "<Figure size 432x288 with 1 Axes>"
      ]
     },
     "metadata": {
      "needs_background": "light"
     },
     "output_type": "display_data"
    }
   ],
   "source": [
    "transaction_1.draw_stacked_bar_total_sale_gender()"
   ]
  },
  {
   "cell_type": "code",
   "execution_count": 139,
   "metadata": {},
   "outputs": [
    {
     "data": {
      "text/plain": [
       "['83.77']"
      ]
     },
     "execution_count": 139,
     "metadata": {},
     "output_type": "execute_result"
    }
   ],
   "source": [
    "transaction_1.get_mode(UNIT_PRICE)"
   ]
  },
  {
   "cell_type": "code",
   "execution_count": 140,
   "metadata": {},
   "outputs": [
    {
     "data": {
      "text/plain": [
       "'Naypyitaw'"
      ]
     },
     "execution_count": 140,
     "metadata": {},
     "output_type": "execute_result"
    }
   ],
   "source": [
    "transaction_1.get_city_name_highest_gross_income()"
   ]
  },
  {
   "cell_type": "code",
   "execution_count": 141,
   "metadata": {},
   "outputs": [
    {
     "data": {
      "text/plain": [
       "'Naypyitaw'"
      ]
     },
     "execution_count": 141,
     "metadata": {},
     "output_type": "execute_result"
    }
   ],
   "source": [
    "transaction_1.get_city_name_highest_gross_income(\"woman\")"
   ]
  },
  {
   "cell_type": "code",
   "execution_count": 142,
   "metadata": {},
   "outputs": [
    {
     "data": {
      "text/plain": [
       "'Mandalay'"
      ]
     },
     "execution_count": 142,
     "metadata": {},
     "output_type": "execute_result"
    }
   ],
   "source": [
    "transaction_1.get_city_name_highest_gross_income(\"man\")"
   ]
  },
  {
   "cell_type": "code",
   "execution_count": null,
   "metadata": {},
   "outputs": [],
   "source": []
  },
  {
   "cell_type": "code",
   "execution_count": null,
   "metadata": {},
   "outputs": [],
   "source": []
  }
 ],
 "metadata": {
  "kernelspec": {
   "display_name": "Python 3",
   "language": "python",
   "name": "python3"
  },
  "language_info": {
   "codemirror_mode": {
    "name": "ipython",
    "version": 3
   },
   "file_extension": ".py",
   "mimetype": "text/x-python",
   "name": "python",
   "nbconvert_exporter": "python",
   "pygments_lexer": "ipython3",
   "version": "3.8.3"
  }
 },
 "nbformat": 4,
 "nbformat_minor": 4
}
